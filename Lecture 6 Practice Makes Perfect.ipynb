{
 "cells": [
  {
   "cell_type": "markdown",
   "id": "e294ecaa",
   "metadata": {},
   "source": [
    "# Lecture 6\n",
    "\n",
    "In the real world, [pair programming](https://en.wikipedia.org/wiki/Pair_programming#:~:text=Pair%20programming%20is%20an%20agile,two%20programmers%20switch%20roles%20frequently) is a common practice in which two programmers work together at one computer. One, the driver, writes code while the other, the observer or navigator, reviews each line of code as it is typed in. The two programmers switch roles frequently. In your breakout room, one of you should share your screen, while the other assists in a fashion similar to described above so as to solve the following questions listed below. "
   ]
  },
  {
   "cell_type": "markdown",
   "id": "f8a7e86b",
   "metadata": {},
   "source": [
    "## Q1) Write a function called \"gold_counter\" that \n",
    "\n",
    "*What to Do?*\n",
    "- Accepts a list of words\n",
    "- Returns the number of occurences the word \"gold\" appears in the list of words\n",
    "- **Bonus**: make your function work even if the word is \"Gold\". You can use String Functions or the binary operator called \"or\"\n",
    "\n",
    "*What to Print? and Testing*\n",
    "- Create two lists to test this function\n",
    "- Test this function with these two lists"
   ]
  },
  {
   "cell_type": "code",
   "execution_count": 17,
   "id": "16f3eff4",
   "metadata": {},
   "outputs": [],
   "source": [
    "def gold_counter (words):\n",
    "    \n",
    "    total = 0\n",
    "    \n",
    "    for word in words:\n",
    "        if word.capitalize() == \"Gold\":\n",
    "            total = total + 1\n",
    "            \n",
    "        \n",
    "    return total"
   ]
  },
  {
   "cell_type": "code",
   "execution_count": 20,
   "id": "b5092751",
   "metadata": {},
   "outputs": [
    {
     "data": {
      "text/plain": [
       "1"
      ]
     },
     "execution_count": 20,
     "metadata": {},
     "output_type": "execute_result"
    }
   ],
   "source": [
    "list_A =[\"silver\", \"gold\", \"copper\"]\n",
    "gold_counter(list_A)"
   ]
  },
  {
   "cell_type": "code",
   "execution_count": 21,
   "id": "14de8213",
   "metadata": {},
   "outputs": [
    {
     "data": {
      "text/plain": [
       "2"
      ]
     },
     "execution_count": 21,
     "metadata": {},
     "output_type": "execute_result"
    }
   ],
   "source": [
    "list_B = [\"silver\", \"gold\", \"gold\", \"copper\", \"zinc\"]\n",
    "gold_counter(list_B)"
   ]
  },
  {
   "cell_type": "code",
   "execution_count": 22,
   "id": "17b712e2",
   "metadata": {},
   "outputs": [
    {
     "data": {
      "text/plain": [
       "2"
      ]
     },
     "execution_count": 22,
     "metadata": {},
     "output_type": "execute_result"
    }
   ],
   "source": [
    "list_C = [\"silver\", \"gold\", \"gold\", \"bronze\", \"copper\"]\n",
    "gold_counter(list_C)\n"
   ]
  },
  {
   "cell_type": "markdown",
   "id": "ee96b5ed",
   "metadata": {},
   "source": [
    "## Q2) Write a function called \"total_occurences\" that\n",
    "\n",
    "*What to do?*\n",
    "- Accepts a target word and a list of words \n",
    "- Return \"No Occurences\" if the word does not appear in the list at all\n",
    "- Return \"1 Occurence\" if the word appears in the list once\n",
    "- Return \"# Occurences\"(e.g. 2 Occurences)if the word does appear in the list \n",
    "- **Bonus**: ensure the case of the letters does not matter\n",
    "\n",
    "*What to Print? / Testing*\n",
    "- Create two lists to test this function\n",
    "- Test this function with these two lists"
   ]
  },
  {
   "cell_type": "code",
   "execution_count": 34,
   "id": "e76692e0",
   "metadata": {},
   "outputs": [],
   "source": [
    "def total_occurences(target, words):\n",
    "    \n",
    "    total = 0\n",
    "    \n",
    "    for word in words:\n",
    "        if word.upper() == target.upper():\n",
    "            total = total + 1\n",
    "            \n",
    "    if total == 0:\n",
    "        return \"1 occurence\"\n",
    "    \n",
    "    else:\n",
    "        return str(total) + \"Occurences\""
   ]
  },
  {
   "cell_type": "code",
   "execution_count": 35,
   "id": "1524d0bd",
   "metadata": {},
   "outputs": [
    {
     "data": {
      "text/plain": [
       "'3Occurences'"
      ]
     },
     "execution_count": 35,
     "metadata": {},
     "output_type": "execute_result"
    }
   ],
   "source": [
    "list_A = [\"paper\", \"pen\", \"pen\", \"phone\", \"pen\"]\n",
    "total_occurences (\"pen\", list_A)\n",
    "\n"
   ]
  },
  {
   "cell_type": "markdown",
   "id": "e4322788",
   "metadata": {},
   "source": [
    "## Q3) Write a function called \"ends_with_s\" that: \n",
    "\n",
    "*What to do?*\n",
    "- Accepts a list of words\n",
    "- Return how many words in the list end with the letter \"s\"\n",
    "\n",
    "*What to Print? / Testing*\n",
    "- Create two lists to test this function\n",
    "- Test this function with these two lists"
   ]
  },
  {
   "cell_type": "code",
   "execution_count": 38,
   "id": "9316e19e",
   "metadata": {},
   "outputs": [],
   "source": [
    "def ends_with_s(words):\n",
    "    \n",
    "    total = 0\n",
    "    \n",
    "    for word in words:\n",
    "        if word.endswith (\"s\"):\n",
    "            total = total + 1\n",
    "            \n",
    "    return total"
   ]
  },
  {
   "cell_type": "code",
   "execution_count": 39,
   "id": "20929e2d",
   "metadata": {},
   "outputs": [
    {
     "data": {
      "text/plain": [
       "3"
      ]
     },
     "execution_count": 39,
     "metadata": {},
     "output_type": "execute_result"
    }
   ],
   "source": [
    "list_A = [\"mangoes\", \"apples\", \"pens\", \"watch\", \"coin\", \"phone\"]\n",
    "ends_with_s(list_A)"
   ]
  },
  {
   "cell_type": "markdown",
   "id": "104ca634",
   "metadata": {},
   "source": [
    "## Q4) Write a function called total_values that: \n",
    "\n",
    "*What to do?*\n",
    "- Accepts a list of words \n",
    "- Returns how many items are in the list the list. \n",
    "- **You are not allowed to use the len() function.**\n",
    "\n",
    "*What to print? / Testing*\n",
    "- Create two lists to test this function\n",
    "- Test this function with these two lists"
   ]
  },
  {
   "cell_type": "code",
   "execution_count": null,
   "id": "7ac6562c",
   "metadata": {},
   "outputs": [],
   "source": [
    "def total_values(words):\n",
    "    total = 0\n",
    "    for word in words:\n",
    "        total = total + 1\n",
    "        return total"
   ]
  },
  {
   "cell_type": "code",
   "execution_count": null,
   "id": "34536d69",
   "metadata": {},
   "outputs": [],
   "source": [
    "list_A "
   ]
  },
  {
   "cell_type": "markdown",
   "id": "dee60fe7",
   "metadata": {},
   "source": [
    "## Q5) Write a function called list_average that: \n",
    "\n",
    "*What to Do?*\n",
    "- Accepts a list of numbers\n",
    "- Returns the average of the list of numbers\n",
    "- **You are not allowed to use the sum() function**\n",
    "\n",
    "*What to Print?*\n",
    "- Create two lists to test this function\n",
    "- Test this function with these two lists"
   ]
  },
  {
   "cell_type": "code",
   "execution_count": 26,
   "id": "08ef418a",
   "metadata": {},
   "outputs": [],
   "source": [
    "def list_average (numbers):\n",
    "    \n",
    "    total = 0\n",
    "    \n",
    "    for number in numbers:\n",
    "        total=total + number \n",
    "        \n",
    "        return total/len(numbers)\n",
    "    "
   ]
  },
  {
   "cell_type": "code",
   "execution_count": 32,
   "id": "aeb25d78",
   "metadata": {},
   "outputs": [
    {
     "ename": "TypeError",
     "evalue": "'function' object is not subscriptable",
     "output_type": "error",
     "traceback": [
      "\u001b[1;31m---------------------------------------------------------------------------\u001b[0m",
      "\u001b[1;31mTypeError\u001b[0m                                 Traceback (most recent call last)",
      "\u001b[1;32m<ipython-input-32-97bd6d52b517>\u001b[0m in \u001b[0;36m<module>\u001b[1;34m\u001b[0m\n\u001b[0;32m      2\u001b[0m \u001b[0ml1\u001b[0m \u001b[1;33m=\u001b[0m \u001b[1;33m[\u001b[0m\u001b[1;36m1\u001b[0m\u001b[1;33m,\u001b[0m\u001b[1;36m5\u001b[0m\u001b[1;33m,\u001b[0m\u001b[1;36m3\u001b[0m\u001b[1;33m,\u001b[0m\u001b[1;36m5\u001b[0m\u001b[1;33m,\u001b[0m\u001b[1;36m3\u001b[0m\u001b[1;33m]\u001b[0m\u001b[1;33m\u001b[0m\u001b[1;33m\u001b[0m\u001b[0m\n\u001b[0;32m      3\u001b[0m \u001b[1;33m\u001b[0m\u001b[0m\n\u001b[1;32m----> 4\u001b[1;33m \u001b[0mlist_average\u001b[0m \u001b[1;33m[\u001b[0m\u001b[0mL1\u001b[0m\u001b[1;33m]\u001b[0m\u001b[1;33m\u001b[0m\u001b[1;33m\u001b[0m\u001b[0m\n\u001b[0m",
      "\u001b[1;31mTypeError\u001b[0m: 'function' object is not subscriptable"
     ]
    }
   ],
   "source": [
    "L = [1,2,3,4,5]\n",
    "l1 = [1,5,3,5,3]\n",
    "\n",
    "list_average [L1]"
   ]
  },
  {
   "cell_type": "markdown",
   "id": "d9bf1c59",
   "metadata": {},
   "source": [
    "## Q6) BONUS: Write a function called is_sorted that: \n",
    "\n",
    "*What to do?*\n",
    "- Accepts a list of numbers\n",
    "- Returns “Sorted\" if the list is sorted in ascending order (min to max) \n",
    "- Returns “Not Sorted” otherwise\n",
    "- For example a list [12, 34, 49] should return “Sorted” and a list [49, 32, 12, 34] should return “Not Sorted”.\n",
    "\n",
    "*What to print? / Testing*\n",
    "- Create two lists to test this function\n",
    "- Test this function with these two lists"
   ]
  },
  {
   "cell_type": "code",
   "execution_count": null,
   "id": "fe778d7f",
   "metadata": {},
   "outputs": [],
   "source": []
  },
  {
   "cell_type": "markdown",
   "id": "c2d82743",
   "metadata": {},
   "source": [
    "## Q7) BONUS: Write a function called list_is_even that: \n",
    "\n",
    "*What to Do?* \n",
    "- Accepts a list of numbers\n",
    "- Returns \"List has even and odd numbers\" if there are both odd and even numbers\n",
    "- Returns \"List has even numbers\" if there are only even numbers\n",
    "- *Hint:* You will need to use % as a mathematical operator. Google more on that. \n",
    "\n",
    "*What to print?/Testing*\n",
    "- Create two lists to test this function\n",
    "- Test this function with these two lists"
   ]
  },
  {
   "cell_type": "code",
   "execution_count": 41,
   "id": "a1ceb279",
   "metadata": {},
   "outputs": [
    {
     "data": {
      "text/plain": [
       "14"
      ]
     },
     "execution_count": 41,
     "metadata": {},
     "output_type": "execute_result"
    }
   ],
   "source": []
  },
  {
   "cell_type": "code",
   "execution_count": null,
   "id": "b27832f4",
   "metadata": {},
   "outputs": [],
   "source": []
  }
 ],
 "metadata": {
  "kernelspec": {
   "display_name": "Python 3",
   "language": "python",
   "name": "python3"
  },
  "language_info": {
   "codemirror_mode": {
    "name": "ipython",
    "version": 3
   },
   "file_extension": ".py",
   "mimetype": "text/x-python",
   "name": "python",
   "nbconvert_exporter": "python",
   "pygments_lexer": "ipython3",
   "version": "3.8.8"
  }
 },
 "nbformat": 4,
 "nbformat_minor": 5
}
