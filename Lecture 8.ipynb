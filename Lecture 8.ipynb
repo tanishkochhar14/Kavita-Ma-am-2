{
 "cells": [
  {
   "cell_type": "markdown",
   "id": "5a367472",
   "metadata": {},
   "source": [
    "Email Dictionaires for Each Divison"
   ]
  },
  {
   "cell_type": "code",
   "execution_count": 10,
   "id": "62d3a83e",
   "metadata": {},
   "outputs": [],
   "source": [
    "div_a_scores_dictionary = {\"student_names\": [\"Harsha\", \"Ashwini\", \"Rohit\", \"Mahir\"],\n",
    "                          \"math_scores\": [50,75,65,70],\n",
    "                          \"chemistry_scores\": [80,75,90,65],\n",
    "                          \"information_technology_scores\": [40,45,50,65],\n",
    "                          \"physics_scores\": [86,64,55,45]}"
   ]
  },
  {
   "cell_type": "code",
   "execution_count": 11,
   "id": "b01f5c08",
   "metadata": {},
   "outputs": [],
   "source": [
    "div_b_scores_dictionary = {\"student_names\": [\"Harshad\", \"Ashwin\", \"Rohini\", \"Melina\"],\n",
    "                          \"math_scores\": [80,65,95,50],\n",
    "                          \"chemistry_scores\": [80,75,90,65],\n",
    "                          \"information_technology_scores\": [60,55,60,65],\n",
    "                          \"physics_scores\": [88,64,53,65]}"
   ]
  },
  {
   "cell_type": "code",
   "execution_count": 12,
   "id": "6be23fd9",
   "metadata": {},
   "outputs": [],
   "source": [
    "div_c_scores_dictionary = {\"student_names\": [\"Sumit\", \"Tarak\", \"Param\", \"Satinder\"],\n",
    "                          \"math_scores\": [80,96,67,71],\n",
    "                          \"chemistry_scores\": [89,79,98,67],\n",
    "                          \"information_technology_scores\": [45,35,60,75],\n",
    "                          \"physics_scores\": [89,77,56,75]}"
   ]
  },
  {
   "cell_type": "markdown",
   "id": "63b85413",
   "metadata": {},
   "source": [
    "Email Dictionaires for Each Divison                      "
   ]
  },
  {
   "cell_type": "code",
   "execution_count": 15,
   "id": "a5dd2cb5",
   "metadata": {},
   "outputs": [],
   "source": [
    "div_a_emails_dictionary = {\"student_name\": [\"Harsha\", \"Ashwini\", \"Rohit\", \"Mahir\"],\n",
    "                           \"student_email\": [\"Harsha@gmail.com\", \"Ashwini@gmail.com\", \"Rohit@gmail.com\", \"Mahir@gmail.com\"]\n",
    "                          }"
   ]
  },
  {
   "cell_type": "code",
   "execution_count": 17,
   "id": "a65e774a",
   "metadata": {},
   "outputs": [],
   "source": [
    "div_b_emails_dictionary = {\"student_name\": [\"Harshad\", \"Ashwin\", \"Rohini\", \"Melina\"],\n",
    "                           \"student_email\": [\"Harshad@gmail.com\", \"Ashwin@gmail.com\", \"Rohini@gmail.com\", \"Melina@gmail.com\"]\n",
    "                                             }                   "
   ]
  },
  {
   "cell_type": "code",
   "execution_count": 18,
   "id": "bf418280",
   "metadata": {},
   "outputs": [],
   "source": [
    "div_c_emails_dictionary = {\"student_names\": [\"Sumit\", \"Tarak\", \"Param\", \"Satinder\"],\n",
    "                           \"student_email\": [\"Sumit@gmail.com\", \"Tarak@gmail.com\", \"Param@gmail.com\", \"Satinder@gmail.com\"]\n",
    "                          }"
   ]
  },
  {
   "cell_type": "markdown",
   "id": "4dcc6975",
   "metadata": {},
   "source": [
    "Score Processor Function"
   ]
  },
  {
   "cell_type": "code",
   "execution_count": 22,
   "id": "6c23b3db",
   "metadata": {},
   "outputs": [],
   "source": [
    "import pandas as pd"
   ]
  },
  {
   "cell_type": "code",
   "execution_count": 25,
   "id": "9957d334",
   "metadata": {},
   "outputs": [],
   "source": [
    "def score_processor(report_card_dictionary, division_name):\n",
    "    \n",
    "    #Convert the Dictionary into a DataFrame\n",
    "    report_card_df = pd.DataFrame(report_card_dictionary)\n",
    "    \n",
    "    #Add the total score column\n",
    "    report_card_df[\"total_score\"] = report_card_df[\"math_scores\"] + report_card_df[\"chemistry_scores\"] + report_card_df[\"information_technology_scores\"] + report_card_df[\"physics_scores\"]\n",
    "    report_card_df.head(5)\n",
    "   \n",
    "    #Add the Average score column\n",
    "    report_card_df[\"average_score\"] = report_card_df[\"total_score\"]/4\n",
    "    report_card_df.loc[report_card_df[\"average_score\"]>=90, \"character_grade\"] = \"A\"\n",
    "    report_card_df.loc[(report_card_df[\"average_score\"]>=70)&(report_card_df[\"average_score\"]<90), \"character_grade\"] = \"B\"\n",
    "    report_card_df.loc[(report_card_df[\"average_score\"]>=50)&(report_card_df[\"average_score\"]<70), \"character_grade\"] = \"C\"\n",
    "    report_card_df.loc[(report_card_df[\"average_score\"]>=35)&(report_card_df[\"average_score\"]<50), \"character_grade\"] = \"D\"\n",
    "    report_card_df.loc[report_card_df[\"average_score\"]<35,\"character_grade\"] = \"F\"\n",
    "    \n",
    "    \n",
    "    #Add the pass fail column\n",
    "    report_card_df.loc[report_card_df[\"total_score\"]>=140, \"status\"] = \"pass\"\n",
    "    report_card_df.loc[report_card_df[\"total_score\"]<=140, \"status\"] = \"fail\"\n",
    "    \n",
    "    #Add the divison column\n",
    "    report_card_df [\"division\"] = division_name\n",
    "    \n",
    "    #Return the report card dataframe\n",
    "    return report_card_df"
   ]
  },
  {
   "cell_type": "code",
   "execution_count": 26,
   "id": "d95cd22c",
   "metadata": {},
   "outputs": [
    {
     "data": {
      "text/html": [
       "<div>\n",
       "<style scoped>\n",
       "    .dataframe tbody tr th:only-of-type {\n",
       "        vertical-align: middle;\n",
       "    }\n",
       "\n",
       "    .dataframe tbody tr th {\n",
       "        vertical-align: top;\n",
       "    }\n",
       "\n",
       "    .dataframe thead th {\n",
       "        text-align: right;\n",
       "    }\n",
       "</style>\n",
       "<table border=\"1\" class=\"dataframe\">\n",
       "  <thead>\n",
       "    <tr style=\"text-align: right;\">\n",
       "      <th></th>\n",
       "      <th>student_names</th>\n",
       "      <th>math_scores</th>\n",
       "      <th>chemistry_scores</th>\n",
       "      <th>information_technology_scores</th>\n",
       "      <th>physics_scores</th>\n",
       "      <th>total_score</th>\n",
       "      <th>average_score</th>\n",
       "      <th>character_grade</th>\n",
       "      <th>status</th>\n",
       "      <th>division</th>\n",
       "    </tr>\n",
       "  </thead>\n",
       "  <tbody>\n",
       "    <tr>\n",
       "      <th>0</th>\n",
       "      <td>Harsha</td>\n",
       "      <td>50</td>\n",
       "      <td>80</td>\n",
       "      <td>40</td>\n",
       "      <td>86</td>\n",
       "      <td>256</td>\n",
       "      <td>64.00</td>\n",
       "      <td>C</td>\n",
       "      <td>pass</td>\n",
       "      <td>A</td>\n",
       "    </tr>\n",
       "    <tr>\n",
       "      <th>1</th>\n",
       "      <td>Ashwini</td>\n",
       "      <td>75</td>\n",
       "      <td>75</td>\n",
       "      <td>45</td>\n",
       "      <td>64</td>\n",
       "      <td>259</td>\n",
       "      <td>64.75</td>\n",
       "      <td>C</td>\n",
       "      <td>pass</td>\n",
       "      <td>A</td>\n",
       "    </tr>\n",
       "    <tr>\n",
       "      <th>2</th>\n",
       "      <td>Rohit</td>\n",
       "      <td>65</td>\n",
       "      <td>90</td>\n",
       "      <td>50</td>\n",
       "      <td>55</td>\n",
       "      <td>260</td>\n",
       "      <td>65.00</td>\n",
       "      <td>C</td>\n",
       "      <td>pass</td>\n",
       "      <td>A</td>\n",
       "    </tr>\n",
       "    <tr>\n",
       "      <th>3</th>\n",
       "      <td>Mahir</td>\n",
       "      <td>70</td>\n",
       "      <td>65</td>\n",
       "      <td>65</td>\n",
       "      <td>45</td>\n",
       "      <td>245</td>\n",
       "      <td>61.25</td>\n",
       "      <td>C</td>\n",
       "      <td>pass</td>\n",
       "      <td>A</td>\n",
       "    </tr>\n",
       "  </tbody>\n",
       "</table>\n",
       "</div>"
      ],
      "text/plain": [
       "  student_names  math_scores  chemistry_scores  information_technology_scores  \\\n",
       "0        Harsha           50                80                             40   \n",
       "1       Ashwini           75                75                             45   \n",
       "2         Rohit           65                90                             50   \n",
       "3         Mahir           70                65                             65   \n",
       "\n",
       "   physics_scores  total_score  average_score character_grade status division  \n",
       "0              86          256          64.00               C   pass        A  \n",
       "1              64          259          64.75               C   pass        A  \n",
       "2              55          260          65.00               C   pass        A  \n",
       "3              45          245          61.25               C   pass        A  "
      ]
     },
     "execution_count": 26,
     "metadata": {},
     "output_type": "execute_result"
    }
   ],
   "source": [
    "score_processor(div_a_scores_dictionary, \"A\")"
   ]
  },
  {
   "cell_type": "code",
   "execution_count": null,
   "id": "60d1a516",
   "metadata": {},
   "outputs": [],
   "source": []
  }
 ],
 "metadata": {
  "kernelspec": {
   "display_name": "Python 3",
   "language": "python",
   "name": "python3"
  },
  "language_info": {
   "codemirror_mode": {
    "name": "ipython",
    "version": 3
   },
   "file_extension": ".py",
   "mimetype": "text/x-python",
   "name": "python",
   "nbconvert_exporter": "python",
   "pygments_lexer": "ipython3",
   "version": "3.8.8"
  }
 },
 "nbformat": 4,
 "nbformat_minor": 5
}
