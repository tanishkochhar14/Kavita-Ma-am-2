{
 "cells": [
  {
   "cell_type": "markdown",
   "id": "5b20af98",
   "metadata": {},
   "source": [
    "# Practice your variables!\n",
    "Course: BBA 108-Essentials of Computing & Coding\n",
    "\n",
    "Submission date: Sunday (19/09/21), 11:59 p.m.\n",
    "\n",
    "Hey everyone! This is a practice bonus assignment worth 10 points. I **highly** encourage all of you to do this.\n",
    "\n",
    "Please contact the following **on Slack** if there are any questions or issues:\n",
    "\n",
    "- @Shourya Watwani \n",
    "- @Vanshika Raj \n",
    "- @Aryan Gupta \n",
    "\n",
    "Thank you! Happy coding :)\n"
   ]
  },
  {
   "cell_type": "code",
   "execution_count": 8,
   "id": "d7643d51",
   "metadata": {},
   "outputs": [
    {
     "data": {
      "text/plain": [
       "'Tanish Kochhar'"
      ]
     },
     "execution_count": 8,
     "metadata": {},
     "output_type": "execute_result"
    }
   ],
   "source": [
    "# MY Name: \n",
    "\n",
    "my_name = \"Tanish Kochhar\"\n",
    "\n",
    "my_name"
   ]
  },
  {
   "cell_type": "code",
   "execution_count": 1,
   "id": "a48e84de",
   "metadata": {},
   "outputs": [
    {
     "data": {
      "text/plain": [
       "'19'"
      ]
     },
     "execution_count": 1,
     "metadata": {},
     "output_type": "execute_result"
    }
   ],
   "source": [
    "# MY Age:\n",
    "\n",
    "my_age = \"19\"\n",
    "\n",
    "my_age "
   ]
  },
  {
   "cell_type": "code",
   "execution_count": 2,
   "id": "fb242ec5",
   "metadata": {},
   "outputs": [
    {
     "data": {
      "text/plain": [
       "10"
      ]
     },
     "execution_count": 2,
     "metadata": {},
     "output_type": "execute_result"
    }
   ],
   "source": [
    "# Trips In India\n",
    "\n",
    "trips_in_india = 10\n",
    "\n",
    "trips_in_india"
   ]
  },
  {
   "cell_type": "code",
   "execution_count": 3,
   "id": "ac849402",
   "metadata": {},
   "outputs": [
    {
     "data": {
      "text/plain": [
       "6"
      ]
     },
     "execution_count": 3,
     "metadata": {},
     "output_type": "execute_result"
    }
   ],
   "source": [
    "# Trips Outside India\n",
    "\n",
    "trips_outside_india = 6\n",
    "\n",
    "trips_outside_india "
   ]
  },
  {
   "cell_type": "code",
   "execution_count": 1,
   "id": "3aa4af2d",
   "metadata": {},
   "outputs": [
    {
     "data": {
      "text/plain": [
       "16"
      ]
     },
     "execution_count": 1,
     "metadata": {},
     "output_type": "execute_result"
    }
   ],
   "source": [
    "# Total trips taken\n",
    "\n",
    "total_trips_taken = 16\n",
    "\n",
    "total_trips_taken "
   ]
  },
  {
   "cell_type": "code",
   "execution_count": 6,
   "id": "52224f94",
   "metadata": {},
   "outputs": [],
   "source": [
    "# Create and print a variable to tell us total number of trips you've taken, using the numeric value in a sentence.\n",
    "trips = \"I have taken trips in India\" + 'trips_in_india + trips_outside_india'"
   ]
  },
  {
   "cell_type": "code",
   "execution_count": 11,
   "id": "612c68f3",
   "metadata": {},
   "outputs": [
    {
     "name": "stdout",
     "output_type": "stream",
     "text": [
      "trips_in_india\n",
      "trips_outside-india\n",
      "more_trips_within_India\n"
     ]
    },
    {
     "ename": "NameError",
     "evalue": "name 'true' is not defined",
     "output_type": "error",
     "traceback": [
      "\u001b[1;31m---------------------------------------------------------------------------\u001b[0m",
      "\u001b[1;31mNameError\u001b[0m                                 Traceback (most recent call last)",
      "\u001b[1;32m<ipython-input-11-989d37215b69>\u001b[0m in \u001b[0;36m<module>\u001b[1;34m\u001b[0m\n\u001b[0;32m      4\u001b[0m \u001b[0mprint\u001b[0m \u001b[1;33m(\u001b[0m\u001b[1;34m\"trips_outside-india\"\u001b[0m\u001b[1;33m)\u001b[0m\u001b[1;33m\u001b[0m\u001b[1;33m\u001b[0m\u001b[0m\n\u001b[0;32m      5\u001b[0m \u001b[0mprint\u001b[0m \u001b[1;33m(\u001b[0m\u001b[1;34m\"more_trips_within_India\"\u001b[0m\u001b[1;33m)\u001b[0m\u001b[1;33m\u001b[0m\u001b[1;33m\u001b[0m\u001b[0m\n\u001b[1;32m----> 6\u001b[1;33m \u001b[0mprint\u001b[0m \u001b[1;33m(\u001b[0m\u001b[0mtrue\u001b[0m\u001b[1;33m>\u001b[0m\u001b[0mfalse\u001b[0m\u001b[1;33m)\u001b[0m\u001b[1;33m\u001b[0m\u001b[1;33m\u001b[0m\u001b[0m\n\u001b[0m",
      "\u001b[1;31mNameError\u001b[0m: name 'true' is not defined"
     ]
    }
   ],
   "source": [
    "# Create and print a variable to tell us whether the statement-\n",
    "# -\"I have taken more trips within India than outside India\" is true or false using boolean variables.\n",
    "print (\"trips_in_india\")\n",
    "print (\"trips_outside-india\")\n",
    "print (\"more_trips_within_India\")\n",
    "print (true>false)\n"
   ]
  },
  {
   "cell_type": "code",
   "execution_count": null,
   "id": "aaee2c68",
   "metadata": {},
   "outputs": [],
   "source": [
    "# Create and print a variable to calculate the average number of trips you've taken in a year using-\n",
    "# your total number of trips and your age."
   ]
  },
  {
   "cell_type": "code",
   "execution_count": null,
   "id": "810f16f4",
   "metadata": {},
   "outputs": [],
   "source": [
    "# Create and print a variable to tell us average number of trips you've taken, using the numeric value in a sentence."
   ]
  }
 ],
 "metadata": {
  "kernelspec": {
   "display_name": "Python 3",
   "language": "python",
   "name": "python3"
  },
  "language_info": {
   "codemirror_mode": {
    "name": "ipython",
    "version": 3
   },
   "file_extension": ".py",
   "mimetype": "text/x-python",
   "name": "python",
   "nbconvert_exporter": "python",
   "pygments_lexer": "ipython3",
   "version": "3.8.8"
  }
 },
 "nbformat": 4,
 "nbformat_minor": 5
}
