{
 "cells": [
  {
   "cell_type": "code",
   "execution_count": null,
   "id": "f565a1bf",
   "metadata": {},
   "outputs": [],
   "source": [
    "Q1 Make a list of numbers and use a for loop to print the list of words"
   ]
  },
  {
   "cell_type": "code",
   "execution_count": 5,
   "id": "3231004c",
   "metadata": {},
   "outputs": [
    {
     "name": "stdout",
     "output_type": "stream",
     "text": [
      "677\n",
      "7495\n",
      "3729\n",
      "595\n"
     ]
    }
   ],
   "source": [
    "numbers = [677, 7495, 3729,595]\n",
    "for number in numbers:\n",
    "    print (number)"
   ]
  },
  {
   "cell_type": "code",
   "execution_count": null,
   "id": "b1050aff",
   "metadata": {},
   "outputs": [],
   "source": [
    "Q2 Make a function called word_printer that:\n",
    "    "
   ]
  },
  {
   "cell_type": "code",
   "execution_count": 10,
   "id": "6e84ce01",
   "metadata": {},
   "outputs": [],
   "source": [
    "def word_printer(words):\n",
    "    for word in words:\n",
    "        print (word)"
   ]
  },
  {
   "cell_type": "code",
   "execution_count": 11,
   "id": "d85ac702",
   "metadata": {},
   "outputs": [
    {
     "data": {
      "text/plain": [
       "['Ertiga', 'Innova']"
      ]
     },
     "execution_count": 11,
     "metadata": {},
     "output_type": "execute_result"
    }
   ],
   "source": [
    "words_list = [\"Ertiga\", \"Innova\"]\n",
    "words_list"
   ]
  },
  {
   "cell_type": "code",
   "execution_count": 12,
   "id": "a11d00ed",
   "metadata": {
    "scrolled": true
   },
   "outputs": [
    {
     "name": "stdout",
     "output_type": "stream",
     "text": [
      "Ertiga\n",
      "Innova\n"
     ]
    }
   ],
   "source": [
    "word_printer(words_list)"
   ]
  },
  {
   "cell_type": "code",
   "execution_count": null,
   "id": "da0e0f5f",
   "metadata": {},
   "outputs": [],
   "source": [
    "Q4) Make called number_print that:\n",
    "    1. Accepts a list of numbers.\n",
    "    2. Prints each number in the list of new line.\n",
    "    "
   ]
  },
  {
   "cell_type": "code",
   "execution_count": null,
   "id": "ffbf4c49",
   "metadata": {},
   "outputs": [],
   "source": [
    "def number_printer (numbers):\n",
    "    for number in numbers:\n",
    "        print (number)"
   ]
  },
  {
   "cell_type": "raw",
   "id": "452d2609",
   "metadata": {},
   "source": [
    "numbers = [200, 400, 600]\n",
    "number_printer (numbers)"
   ]
  },
  {
   "cell_type": "code",
   "execution_count": null,
   "id": "351449cf",
   "metadata": {},
   "outputs": [],
   "source": [
    "Q5) Make a function called list_combiner that:\n",
    "    1. Accepts 2 lists.\n",
    "    2. Returns a combined version of two lists."
   ]
  },
  {
   "cell_type": "code",
   "execution_count": 16,
   "id": "260a4974",
   "metadata": {},
   "outputs": [],
   "source": [
    "def list_combiner (list_1, list_2):\n",
    "    return list_1+ list_2"
   ]
  },
  {
   "cell_type": "code",
   "execution_count": 17,
   "id": "4b27ad55",
   "metadata": {},
   "outputs": [],
   "source": [
    "words_list_1 = [\"sea\", \"ocean\"]\n",
    "words_list_2 = [\"food\", \"water\"] "
   ]
  },
  {
   "cell_type": "code",
   "execution_count": 18,
   "id": "84a56a61",
   "metadata": {
    "scrolled": true
   },
   "outputs": [
    {
     "data": {
      "text/plain": [
       "['sea', 'ocean', 'food', 'water']"
      ]
     },
     "execution_count": 18,
     "metadata": {},
     "output_type": "execute_result"
    }
   ],
   "source": [
    "list_combiner (words_list_1, words_list_2)"
   ]
  },
  {
   "cell_type": "code",
   "execution_count": null,
   "id": "d09db4c5",
   "metadata": {},
   "outputs": [],
   "source": [
    "Q6) Make a function called list2_is_longer that:\n",
    "    1. Accepts 2 lists of words\n",
    "    2. Print \"List 2 is longer\" if list has 2 more values.\n",
    "    3. Print \"List are of equal size\" if lists are of equal size.\n",
    "    4. Print \"List 1 is longeR\" otherwise.\n",
    "    \n",
    "    "
   ]
  },
  {
   "cell_type": "code",
   "execution_count": 20,
   "id": "2e17e9a5",
   "metadata": {},
   "outputs": [
    {
     "ename": "SyntaxError",
     "evalue": "invalid syntax (<ipython-input-20-62cada1a7fe9>, line 1)",
     "output_type": "error",
     "traceback": [
      "\u001b[1;36m  File \u001b[1;32m\"<ipython-input-20-62cada1a7fe9>\"\u001b[1;36m, line \u001b[1;32m1\u001b[0m\n\u001b[1;33m    def list2_is_longer (list_1), list_2:\u001b[0m\n\u001b[1;37m                                ^\u001b[0m\n\u001b[1;31mSyntaxError\u001b[0m\u001b[1;31m:\u001b[0m invalid syntax\n"
     ]
    }
   ],
   "source": [
    "def list2_is_longer (list_1), list_2:\n",
    "    \n",
    "    list_1_length = len(list_1)\n",
    "    list_2_length = len(list_2)\n",
    "    \n",
    "    if list_2_length> list_1_length:\n",
    "        print (\"List 2 is longer\")\n",
    "        \n",
    "        elif len(list_1)<len(list_2):\n",
    "            primt (\"List are of equal size\")\n",
    "            \n",
    "            else:\n",
    "                print (\"List 1 is longer\")\n",
    "            \n",
    "        \n",
    "        \n",
    "        "
   ]
  },
  {
   "cell_type": "code",
   "execution_count": null,
   "id": "98fef215",
   "metadata": {},
   "outputs": [],
   "source": [
    "## Write a function called gold_finder that:\n",
    "1. Accepts a list of words.\n",
    "2. Checks if the word \"gold\" exists in the list of words.\n",
    "3. If it exists it prints \"Gold Found\".\n",
    "4. If not \"Gold Not Found\""
   ]
  },
  {
   "cell_type": "code",
   "execution_count": 34,
   "id": "e88c7e14",
   "metadata": {},
   "outputs": [],
   "source": [
    "def gold_finder (words):\n",
    "    # Check if the wordgold exists in the list\n",
    "    for word in words:\n",
    "        if word == \"gold\":\n",
    "            print (\"Gold Found\")\n",
    "            \n",
    "            # If it is not found after checking, then I am printing Gold Not Found\n",
    "            print(\"Gold Not Found\")"
   ]
  },
  {
   "cell_type": "code",
   "execution_count": 35,
   "id": "9979370b",
   "metadata": {
    "scrolled": true
   },
   "outputs": [
    {
     "name": "stdout",
     "output_type": "stream",
     "text": [
      "Gold Found\n",
      "Gold Not Found\n"
     ]
    }
   ],
   "source": [
    "words = [\"gold\", \"silver\", \"bronze\"]\n",
    "gold_finder(words) "
   ]
  },
  {
   "cell_type": "code",
   "execution_count": null,
   "id": "33840ccc",
   "metadata": {},
   "outputs": [],
   "source": [
    "## Write a function called gold_2_finder that:\n",
    "1. Accepts a list of words.\n",
    "2. Checks if the word \"gold\" exists in the list of words.\n",
    "3. If it exists it prints \"Gold Found\".\n",
    "4. If not \"Gold Not Found\""
   ]
  },
  {
   "cell_type": "code",
   "execution_count": 41,
   "id": "b85de87c",
   "metadata": {},
   "outputs": [],
   "source": [
    "def gold_2_finder (words):\n",
    "    \n",
    "    for word in words:\n",
    "        if word == \"Gold\" or word == \"gold\"\n",
    "        return \"Gold Found\"\n",
    "        \n",
    "        #Since the for loop could not find Gold\n",
    "        \n",
    "        return \"Gold Not Found\""
   ]
  },
  {
   "cell_type": "code",
   "execution_count": 42,
   "id": "80144c41",
   "metadata": {},
   "outputs": [
    {
     "data": {
      "text/plain": [
       "'Gold Not Found'"
      ]
     },
     "execution_count": 42,
     "metadata": {},
     "output_type": "execute_result"
    }
   ],
   "source": [
    "gold_2_finder ([\"silver\", \"gold\", \"gold\", \"bronze\"])"
   ]
  },
  {
   "cell_type": "code",
   "execution_count": null,
   "id": "711b60bb",
   "metadata": {},
   "outputs": [],
   "source": [
    "## Q8) Write a function called word_finder that:\n",
    "1. Accepts a target word and list of words\n",
    "2. Checks to see if the target word exists in the list of words.\n",
    "3. If it exists return true\n",
    "4. if it does not exist return False."
   ]
  },
  {
   "cell_type": "code",
   "execution_count": 44,
   "id": "5895cf66",
   "metadata": {},
   "outputs": [],
   "source": [
    "def first_index (target, words):\n",
    "    \n",
    "    index = 0\n",
    "    \n",
    "    for word in words:\n",
    "        \n",
    "        if target == word:\n",
    "            return index\n",
    "        else:\n",
    "            index = index + 1\n",
    "            \n",
    "            return - 1"
   ]
  },
  {
   "cell_type": "code",
   "execution_count": 45,
   "id": "c1cabf2b",
   "metadata": {},
   "outputs": [],
   "source": [
    "words = [\"you\", \"stop\", \"share\", \"pen\"]"
   ]
  },
  {
   "cell_type": "code",
   "execution_count": 46,
   "id": "c9635acc",
   "metadata": {},
   "outputs": [
    {
     "data": {
      "text/plain": [
       "-1"
      ]
     },
     "execution_count": 46,
     "metadata": {},
     "output_type": "execute_result"
    }
   ],
   "source": [
    "first_index(\"share\", \"words\")"
   ]
  },
  {
   "cell_type": "code",
   "execution_count": null,
   "id": "e155e3d7",
   "metadata": {},
   "outputs": [],
   "source": [
    "Q10 Make a function that:\n",
    "    1. Accepts a list of numbers.\n",
    "    2. Returns average of the numbers in the list."
   ]
  },
  {
   "cell_type": "code",
   "execution_count": null,
   "id": "ce2a05db",
   "metadata": {},
   "outputs": [],
   "source": [
    "def list_average (numbers):\n",
    "    total = 0\n",
    "    \n",
    "    for number in numbers:\n",
    "        total = total + number\n",
    "        \n",
    "        #total/total numbers in list\n",
    "        return total "
   ]
  }
 ],
 "metadata": {
  "kernelspec": {
   "display_name": "Python 3",
   "language": "python",
   "name": "python3"
  },
  "language_info": {
   "codemirror_mode": {
    "name": "ipython",
    "version": 3
   },
   "file_extension": ".py",
   "mimetype": "text/x-python",
   "name": "python",
   "nbconvert_exporter": "python",
   "pygments_lexer": "ipython3",
   "version": "3.8.8"
  }
 },
 "nbformat": 4,
 "nbformat_minor": 5
}
