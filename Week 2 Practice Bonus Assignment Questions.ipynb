{
 "cells": [
  {
   "cell_type": "markdown",
   "metadata": {},
   "source": [
    "# Week 2 Practice Bonus Assignment Solution (30 Marks)\n",
    "**Please upload your work onto Github and submit a link to your Github repository on Google Classroom.**"
   ]
  },
  {
   "cell_type": "markdown",
   "metadata": {},
   "source": [
    "## Student Details\n",
    "\n",
    "- **Name:** Tanish Kochhar\n",
    "- **Division:** A \n",
    "- **Roll Number:** A-37\n",
    "- **How many hours did it take you to complete this assignment?** I took 2 hours.\n",
    "- **Any other comments?"
   ]
  },
  {
   "cell_type": "markdown",
   "metadata": {},
   "source": [
    "**This assignment will cover the following concepts taught in class:**\n",
    "\n",
    "- Lists / 5 marks\n",
    "- Dictionaries / 5 marks\n",
    "- String Functions / 5 marks\n",
    "- Functions / 15 marks"
   ]
  },
  {
   "cell_type": "markdown",
   "metadata": {},
   "source": [
    "## Lists (5 Marks)"
   ]
  },
  {
   "cell_type": "code",
   "execution_count": 6,
   "metadata": {},
   "outputs": [
    {
     "data": {
      "text/plain": [
       "('coca_cola', 'sprite', 'miranda')"
      ]
     },
     "execution_count": 6,
     "metadata": {},
     "output_type": "execute_result"
    }
   ],
   "source": [
    "# Q1 Create a list that contains 2 of your favorite soft drinks and print this list\n",
    "favourite_soft_drinks = \"coca_cola\", \"sprite\", \"miranda\"\n",
    "favourite_soft_drinks"
   ]
  },
  {
   "cell_type": "code",
   "execution_count": 8,
   "metadata": {},
   "outputs": [
    {
     "data": {
      "text/plain": [
       "('coca_cola', 'sprite', 'miranda')"
      ]
     },
     "execution_count": 8,
     "metadata": {},
     "output_type": "execute_result"
    }
   ],
   "source": [
    "# Q2 Add 3 more drinks to this list and print the list.\n",
    "favourite_soft_drinks = \"coca_cola\", \"sprite\", \"miranda\"\n",
    "favourite_soft_drinks "
   ]
  },
  {
   "cell_type": "code",
   "execution_count": 10,
   "metadata": {},
   "outputs": [
    {
     "data": {
      "text/plain": [
       "3"
      ]
     },
     "execution_count": 10,
     "metadata": {},
     "output_type": "execute_result"
    }
   ],
   "source": [
    "# Q3 Create and Print a variable that stores the number of values your list of favorite soft drinks has\n",
    "favourite_soft_drinks_tot = len(favourite_soft_drinks)\n",
    "favourite_soft_drinks_tot"
   ]
  },
  {
   "cell_type": "code",
   "execution_count": 11,
   "metadata": {},
   "outputs": [
    {
     "data": {
      "text/plain": [
       "'sprite'"
      ]
     },
     "execution_count": 11,
     "metadata": {},
     "output_type": "execute_result"
    }
   ],
   "source": [
    "# Q4 Print the second last value in your list of favorite soft drinks\n",
    "favourite_soft_drinks[-2]"
   ]
  },
  {
   "cell_type": "code",
   "execution_count": 12,
   "metadata": {},
   "outputs": [
    {
     "data": {
      "text/plain": [
       "'coca_cola'"
      ]
     },
     "execution_count": 12,
     "metadata": {},
     "output_type": "execute_result"
    }
   ],
   "source": [
    "# Q4 Alternate Answer\n",
    "favourite_soft_drinks[-3]"
   ]
  },
  {
   "cell_type": "code",
   "execution_count": 13,
   "metadata": {},
   "outputs": [
    {
     "ename": "TypeError",
     "evalue": "'tuple' object does not support item assignment",
     "output_type": "error",
     "traceback": [
      "\u001b[1;31m---------------------------------------------------------------------------\u001b[0m",
      "\u001b[1;31mTypeError\u001b[0m                                 Traceback (most recent call last)",
      "\u001b[1;32m<ipython-input-13-6d043dec7f10>\u001b[0m in \u001b[0;36m<module>\u001b[1;34m\u001b[0m\n\u001b[0;32m      1\u001b[0m \u001b[1;31m# Q5 Change the value of the second index to \"Big Cola\" and print your list of favorite soft drinks\u001b[0m\u001b[1;33m\u001b[0m\u001b[1;33m\u001b[0m\u001b[1;33m\u001b[0m\u001b[0m\n\u001b[1;32m----> 2\u001b[1;33m \u001b[0mfavourite_soft_drinks\u001b[0m\u001b[1;33m[\u001b[0m\u001b[1;36m1\u001b[0m\u001b[1;33m]\u001b[0m\u001b[1;33m=\u001b[0m\u001b[1;34m\"coca_cola\"\u001b[0m\u001b[1;33m\u001b[0m\u001b[1;33m\u001b[0m\u001b[0m\n\u001b[0m\u001b[0;32m      3\u001b[0m \u001b[0mfavourite_soft_drinks\u001b[0m\u001b[1;33m\u001b[0m\u001b[1;33m\u001b[0m\u001b[0m\n",
      "\u001b[1;31mTypeError\u001b[0m: 'tuple' object does not support item assignment"
     ]
    }
   ],
   "source": [
    "# Q5 Change the value of the second index to \"Big Cola\" and print your list of favorite soft drinks\n",
    "favourite_soft_drinks[1]=\"coca_cola\"\n",
    "favourite_soft_drinks"
   ]
  },
  {
   "cell_type": "markdown",
   "metadata": {},
   "source": [
    "## Dictionaries (5 Marks)"
   ]
  },
  {
   "cell_type": "code",
   "execution_count": 38,
   "metadata": {},
   "outputs": [
    {
     "ename": "SyntaxError",
     "evalue": "invalid syntax (<ipython-input-38-a60b6cce8440>, line 4)",
     "output_type": "error",
     "traceback": [
      "\u001b[1;36m  File \u001b[1;32m\"<ipython-input-38-a60b6cce8440>\"\u001b[1;36m, line \u001b[1;32m4\u001b[0m\n\u001b[1;33m    \"Foods\" : [\"Chicken Biryani\", \"Mutton Rogan Josh\", \"Puri Chhole\", \"Fish Koliwada\"]}\u001b[0m\n\u001b[1;37m    ^\u001b[0m\n\u001b[1;31mSyntaxError\u001b[0m\u001b[1;31m:\u001b[0m invalid syntax\n"
     ]
    }
   ],
   "source": [
    "# Q1 Create and print a dictionary called \"my favorites\" that that contains 2 keys that represent \n",
    "# lists of your favorite movies and favorite foods\n",
    "my_favourites = {\"Movies\": [\"Kurbaan\", \"Namastey London\", \"Chal Mera Putt\", \"Ghoogi Choomantar\"]\n",
    "                 \"Foods\" : [\"Chicken Biryani\", \"Mutton Rogan Josh\", \"Puri Chhole\", \"Fish Koliwada\"]}\n",
    "my_favourites = (\"Movies\", \" Foods\")"
   ]
  },
  {
   "cell_type": "code",
   "execution_count": 40,
   "metadata": {},
   "outputs": [
    {
     "ename": "SyntaxError",
     "evalue": "unexpected EOF while parsing (<ipython-input-40-38b03e00bf3f>, line 5)",
     "output_type": "error",
     "traceback": [
      "\u001b[1;36m  File \u001b[1;32m\"<ipython-input-40-38b03e00bf3f>\"\u001b[1;36m, line \u001b[1;32m5\u001b[0m\n\u001b[1;33m    \"my_favourites\"\u001b[0m\n\u001b[1;37m                    ^\u001b[0m\n\u001b[1;31mSyntaxError\u001b[0m\u001b[1;31m:\u001b[0m unexpected EOF while parsing\n"
     ]
    }
   ],
   "source": [
    "# Q2 Add another key called \"Drinks\" to the \"my_favorites\" dictionary that is a list of your favorite drinks. \n",
    "my_favourites = {\"Drinks\": [\"Red Bull\", \"Monster\", \"Pepsi\", \"Orange Juice\"\n",
    "\n",
    "# Please print your \"my_favorites\" dictionary after\n",
    "\"my_favourites\" "
   ]
  },
  {
   "cell_type": "code",
   "execution_count": 9,
   "metadata": {},
   "outputs": [],
   "source": [
    "# Q3 Add another favorite food to list of favorite foods list in the \"my_favorites\" dictionary\n",
    "\n",
    "\n",
    "# Please print your \"my_favorite\" dictionary\n"
   ]
  },
  {
   "cell_type": "code",
   "execution_count": 10,
   "metadata": {},
   "outputs": [],
   "source": [
    "# Q4 Print the value for your favorite movies from the \"my_favorites\" dictionary\n"
   ]
  },
  {
   "cell_type": "code",
   "execution_count": 11,
   "metadata": {},
   "outputs": [],
   "source": [
    "# Q5A Print the total keys in your \"my_favorites\" dictionary \n"
   ]
  },
  {
   "cell_type": "code",
   "execution_count": 12,
   "metadata": {},
   "outputs": [],
   "source": [
    "# Q5B Print the total values for each key in your \"my_favorites\" dictionary\n"
   ]
  },
  {
   "cell_type": "markdown",
   "metadata": {},
   "source": [
    "## String Functions (5 Marks) \n",
    "\n",
    "[Reference Library](https://www.w3schools.com/python/ref_string_replace.asp)"
   ]
  },
  {
   "cell_type": "code",
   "execution_count": 15,
   "metadata": {},
   "outputs": [
    {
     "data": {
      "text/plain": [
       "'asdfghjklqwertyu'"
      ]
     },
     "execution_count": 15,
     "metadata": {},
     "output_type": "execute_result"
    }
   ],
   "source": [
    "# Q1 Create a string called \"random_characters\" and enter random characters into it (e.g \"sadasdsa\"). \n",
    "random_characters = \"asdfghjklqwertyu\"\n",
    "# Print if all characters in random_characters are lowercase\n",
    "random_characters\n"
   ]
  },
  {
   "cell_type": "raw",
   "metadata": {},
   "source": [
    "# Q2 Replace any one character in \"random_characters\" with \"hello\". Print the result \n",
    "random_characters.replace(\"b\".\"hello\")"
   ]
  },
  {
   "cell_type": "raw",
   "metadata": {},
   "source": [
    "# Q3 Convert \"random_characters\" to all upper case letters\n",
    "random_characters.upper \"asdfghjklqwertyu\"\n",
    "random_characters"
   ]
  },
  {
   "cell_type": "code",
   "execution_count": 16,
   "metadata": {},
   "outputs": [
    {
     "data": {
      "text/plain": [
       "('Hum Tum', 'Kal Ho Na Ho', 'Dhoom 2')"
      ]
     },
     "execution_count": 16,
     "metadata": {},
     "output_type": "execute_result"
    }
   ],
   "source": [
    "# Q4 \n",
    "# Create a string called \"my_favorite_movies\" with the following value: \"Hum Tum, Kal Ho Na Ho, Dhoom 2\". \n",
    "my_favourite_movies = \"Hum Tum\", \"Kal Ho Na Ho\", \"Dhoom 2\"\n",
    "my_favourite_movies\n",
    "\n",
    "\n",
    "# Now convert \"my_favorite_movies\" into a list structured like this [\"Hum Tum\", \"Kal Ho Na Ho\", \"Dhoom 2\"]\n",
    "\n",
    "\n",
    "# Print \"my_favorite_movies\"\n"
   ]
  },
  {
   "cell_type": "markdown",
   "metadata": {},
   "source": [
    "## Functions (15 Marks / 3 marks for each question)\n",
    "**PLEASE NOTE THIS IS A BONUS POINT ASSIGNMENT. NOT ALL QUESTIONS ARE GOING TO BE EASY. IT'S CALLED BONUS FOR A REASON.** Please refer to the [Textbook](info370a-w19.github.io/python-basics/)"
   ]
  },
  {
   "cell_type": "markdown",
   "metadata": {},
   "source": [
    "### Q1) Create a function called is_greater that: \n",
    "- Accepts 2 numbers\n",
    "- Returns a boolean value that indicates if variable 1 is greater than variable 2\n",
    "- Please create and print a variable that uses this function"
   ]
  },
  {
   "cell_type": "code",
   "execution_count": 17,
   "metadata": {},
   "outputs": [],
   "source": [
    "# Write your function here\n",
    "def is_greater(num1,num2):\n",
    "    return num1>num2"
   ]
  },
  {
   "cell_type": "code",
   "execution_count": 18,
   "metadata": {},
   "outputs": [
    {
     "data": {
      "text/plain": [
       "True"
      ]
     },
     "execution_count": 18,
     "metadata": {},
     "output_type": "execute_result"
    }
   ],
   "source": [
    "# Create and print a variable that uses this function\n",
    "is_greater(50,25)"
   ]
  },
  {
   "cell_type": "markdown",
   "metadata": {},
   "source": [
    "### Q2) Create a function total_list_length\n",
    "- Accepts 2 lists\n",
    "- Calculate the length of each of the two lists\n",
    "- Returns the length of the combined lists\n",
    "- Please create and print a variable that uses this function"
   ]
  },
  {
   "cell_type": "code",
   "execution_count": 19,
   "metadata": {},
   "outputs": [],
   "source": [
    "# Write your function here\n",
    "def total_list_length(list1, list2):\n",
    "    return len(list1)+len(list2)"
   ]
  },
  {
   "cell_type": "code",
   "execution_count": 21,
   "metadata": {},
   "outputs": [
    {
     "data": {
      "text/plain": [
       "5"
      ]
     },
     "execution_count": 21,
     "metadata": {},
     "output_type": "execute_result"
    }
   ],
   "source": [
    "# Create and print a variable that uses this function\n",
    "movies = [\"BellBottom\", \"Tararumpum\", \"Krrish\"]\n",
    "songs = [\"shukraan allah\", \"maarjawan\"]\n",
    "total_list_length2 = total_list_length(movies,songs)\n",
    "total_list_length2"
   ]
  },
  {
   "cell_type": "markdown",
   "metadata": {},
   "source": [
    "### Q3) Create a function called contains_titanic that: \n",
    "- Accepts a list of movies \n",
    "- Returns \"Titanic exists\" If it is present in the list \n",
    "- Returns \"Titanic Does not exist\"if it is not present in the list\n",
    "- Please create and print a variable that uses this function"
   ]
  },
  {
   "cell_type": "code",
   "execution_count": 28,
   "metadata": {},
   "outputs": [],
   "source": [
    "# Write your function here\n",
    "def average(nums):\n",
    "    tot = 0\n",
    "    for number in numbers:\n",
    "        tot-tot+num\n",
    "        return tot/len(num)"
   ]
  },
  {
   "cell_type": "code",
   "execution_count": 29,
   "metadata": {},
   "outputs": [],
   "source": [
    "average = [25,50,75,100]"
   ]
  },
  {
   "cell_type": "code",
   "execution_count": 22,
   "metadata": {},
   "outputs": [],
   "source": [
    "# Create and print a variable that uses this function\n"
   ]
  },
  {
   "cell_type": "markdown",
   "metadata": {},
   "source": [
    "### Q4) Create a function called list_average that: \n",
    "\n",
    "- Accepts a list of numbers\n",
    "- Returns the average of the list of numbers\n",
    "- Please create and print a variable that uses this function"
   ]
  },
  {
   "cell_type": "code",
   "execution_count": 23,
   "metadata": {},
   "outputs": [],
   "source": [
    "# Write your function here\n"
   ]
  },
  {
   "cell_type": "code",
   "execution_count": 24,
   "metadata": {},
   "outputs": [],
   "source": [
    "# Create and print a variable that uses this function\n"
   ]
  },
  {
   "cell_type": "markdown",
   "metadata": {},
   "source": [
    "### Q5) Create a function called longest_word_in_list that:\n",
    "- Accepts a list of words\n",
    "- Returns the longest string in the list\n",
    "- Please create and print a variable that uses this function"
   ]
  },
  {
   "cell_type": "code",
   "execution_count": 25,
   "metadata": {},
   "outputs": [],
   "source": [
    "# Write your function here\n"
   ]
  },
  {
   "cell_type": "code",
   "execution_count": 26,
   "metadata": {},
   "outputs": [],
   "source": [
    "# Create and print a variable that uses this function\n"
   ]
  }
 ],
 "metadata": {
  "kernelspec": {
   "display_name": "Python 3",
   "language": "python",
   "name": "python3"
  },
  "language_info": {
   "codemirror_mode": {
    "name": "ipython",
    "version": 3
   },
   "file_extension": ".py",
   "mimetype": "text/x-python",
   "name": "python",
   "nbconvert_exporter": "python",
   "pygments_lexer": "ipython3",
   "version": "3.8.8"
  }
 },
 "nbformat": 4,
 "nbformat_minor": 2
}
